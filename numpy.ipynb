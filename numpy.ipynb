{
  "cells": [
    {
      "cell_type": "markdown",
      "metadata": {
        "id": "view-in-github",
        "colab_type": "text"
      },
      "source": [
        "<a href=\"https://colab.research.google.com/github/saiarun7/Ineuron/blob/main/numpy.ipynb\" target=\"_parent\"><img src=\"https://colab.research.google.com/assets/colab-badge.svg\" alt=\"Open In Colab\"/></a>"
      ]
    },
    {
      "cell_type": "code",
      "execution_count": null,
      "metadata": {
        "id": "j4e0P_o_ATLO"
      },
      "outputs": [],
      "source": [
        "import numpy as np"
      ]
    },
    {
      "cell_type": "code",
      "execution_count": null,
      "metadata": {
        "id": "pzPV4EvdATLR"
      },
      "outputs": [],
      "source": [
        "import array"
      ]
    },
    {
      "cell_type": "code",
      "execution_count": null,
      "metadata": {
        "id": "n2cHCiflATLR",
        "outputId": "645f480a-c2f4-42fb-e807-03f303c8292d"
      },
      "outputs": [
        {
          "data": {
            "text/plain": [
              "numpy.ndarray"
            ]
          },
          "execution_count": 4,
          "metadata": {},
          "output_type": "execute_result"
        }
      ],
      "source": [
        "type(np.array([1,2,3,4,5]))"
      ]
    },
    {
      "cell_type": "code",
      "execution_count": null,
      "metadata": {
        "id": "oj6zkkDWATLS",
        "outputId": "33be6f01-287d-4989-9d18-e60054e8f287"
      },
      "outputs": [
        {
          "data": {
            "text/plain": [
              "array([1, 2, 3, 4, 5])"
            ]
          },
          "execution_count": 6,
          "metadata": {},
          "output_type": "execute_result"
        }
      ],
      "source": [
        "np.array([1,2,3,4,5])"
      ]
    },
    {
      "cell_type": "code",
      "execution_count": null,
      "metadata": {
        "id": "Jz0vaEF6ATLT",
        "outputId": "df5d9d1f-69c4-4750-8eb3-c3c559ca2474"
      },
      "outputs": [
        {
          "data": {
            "text/plain": [
              "array(['1', '2', '3', '4', '5', 'sudh', '(4+8j)'], dtype='<U11')"
            ]
          },
          "execution_count": 5,
          "metadata": {},
          "output_type": "execute_result"
        }
      ],
      "source": [
        "np.array([1,2,3,4,5,\"sudh\" , 4+8j,])"
      ]
    },
    {
      "cell_type": "code",
      "execution_count": null,
      "metadata": {
        "id": "bYC5pGlEATLT",
        "outputId": "11fe3e97-3b27-4eea-8f83-ddefd8a86416"
      },
      "outputs": [
        {
          "data": {
            "text/plain": [
              "array([1. , 2. , 3. , 4.5, 6. ])"
            ]
          },
          "execution_count": 7,
          "metadata": {},
          "output_type": "execute_result"
        }
      ],
      "source": [
        "np.array([1,2,3,4.5,6.0])"
      ]
    },
    {
      "cell_type": "code",
      "execution_count": null,
      "metadata": {
        "id": "eQ7qz415ATLU",
        "outputId": "00412fd8-e9bf-468d-8453-f25ba0faf4e9"
      },
      "outputs": [
        {
          "data": {
            "text/plain": [
              "array([[1, 3],\n",
              "       [3, 4]])"
            ]
          },
          "execution_count": 8,
          "metadata": {},
          "output_type": "execute_result"
        }
      ],
      "source": [
        "np.array([[1,3],[3,4]])"
      ]
    },
    {
      "cell_type": "code",
      "execution_count": null,
      "metadata": {
        "id": "RxrZnzf1ATLU",
        "outputId": "7774eb33-2caf-4898-bc27-68d270fb7e7a"
      },
      "outputs": [
        {
          "data": {
            "text/plain": [
              "array([[1, 3],\n",
              "       [3, 4],\n",
              "       [6, 7]])"
            ]
          },
          "execution_count": 9,
          "metadata": {},
          "output_type": "execute_result"
        }
      ],
      "source": [
        "np.array([[1,3],[3,4],[6,7]])"
      ]
    },
    {
      "cell_type": "code",
      "execution_count": null,
      "metadata": {
        "id": "SKtVCSFEATLV",
        "outputId": "b290682f-8732-4fbc-de6e-4f0ed357166e"
      },
      "outputs": [
        {
          "name": "stderr",
          "output_type": "stream",
          "text": [
            "<ipython-input-10-2fc331c0f648>:1: VisibleDeprecationWarning: Creating an ndarray from ragged nested sequences (which is a list-or-tuple of lists-or-tuples-or ndarrays with different lengths or shapes) is deprecated. If you meant to do this, you must specify 'dtype=object' when creating the ndarray\n",
            "  np.array([[1,3],[3,4],[6,7,8]])\n"
          ]
        },
        {
          "data": {
            "text/plain": [
              "array([list([1, 3]), list([3, 4]), list([6, 7, 8])], dtype=object)"
            ]
          },
          "execution_count": 10,
          "metadata": {},
          "output_type": "execute_result"
        }
      ],
      "source": [
        "np.array([[1,3],[3,4],[6,7,8]])"
      ]
    },
    {
      "cell_type": "code",
      "execution_count": null,
      "metadata": {
        "id": "AtB_bu-MATLV",
        "outputId": "6933d732-4ceb-4c17-87ef-4f05bbd72834"
      },
      "outputs": [
        {
          "data": {
            "text/plain": [
              "array([[[1, 3],\n",
              "        [3, 4]],\n",
              "\n",
              "       [[1, 3],\n",
              "        [3, 4]]])"
            ]
          },
          "execution_count": 11,
          "metadata": {},
          "output_type": "execute_result"
        }
      ],
      "source": [
        "np.array([[[1,3],[3,4]],[[1,3],[3,4]]])"
      ]
    },
    {
      "cell_type": "code",
      "execution_count": null,
      "metadata": {
        "id": "Zc6HF0XgATLV",
        "outputId": "47ce3996-7d84-4f83-8903-febc8c191135"
      },
      "outputs": [
        {
          "data": {
            "text/plain": [
              "array([[[1, 2, 3]]])"
            ]
          },
          "execution_count": 14,
          "metadata": {},
          "output_type": "execute_result"
        }
      ],
      "source": [
        "np.array([1,2,3] , ndmin = 3)"
      ]
    },
    {
      "cell_type": "code",
      "execution_count": null,
      "metadata": {
        "id": "aaAc6E9AATLW",
        "outputId": "8f4cd6b1-1b45-41a5-f675-30e3a58318b3"
      },
      "outputs": [
        {
          "data": {
            "text/plain": [
              "array([1.+0.j, 2.+0.j, 3.+0.j])"
            ]
          },
          "execution_count": 15,
          "metadata": {},
          "output_type": "execute_result"
        }
      ],
      "source": [
        "np.array([1,2,3] , dtype = complex)"
      ]
    },
    {
      "cell_type": "code",
      "execution_count": null,
      "metadata": {
        "id": "2t5gQOcjATLW"
      },
      "outputs": [],
      "source": [
        "arr = np.array([(1,2) , (4,5)],dtype = [(\"a\",'<i4'), (\"b\",'<i8')])"
      ]
    },
    {
      "cell_type": "code",
      "execution_count": null,
      "metadata": {
        "id": "qyzL9xR2ATLW",
        "outputId": "6ffcd20e-fc55-4239-ede4-34ca5c1310a7"
      },
      "outputs": [
        {
          "data": {
            "text/plain": [
              "array([(1, 2), (4, 5)], dtype=[('a', '<i4'), ('b', '<i8')])"
            ]
          },
          "execution_count": 31,
          "metadata": {},
          "output_type": "execute_result"
        }
      ],
      "source": [
        "arr"
      ]
    },
    {
      "cell_type": "code",
      "execution_count": null,
      "metadata": {
        "id": "i9or2_8HATLW",
        "outputId": "2f56559f-685c-4eb7-d71d-bf86b53541d1"
      },
      "outputs": [
        {
          "data": {
            "text/plain": [
              "numpy.int32"
            ]
          },
          "execution_count": 32,
          "metadata": {},
          "output_type": "execute_result"
        }
      ],
      "source": [
        "type(arr[0][0])"
      ]
    },
    {
      "cell_type": "code",
      "execution_count": null,
      "metadata": {
        "id": "s4aQNQbkATLX",
        "outputId": "fad94e5b-ad7d-41e2-e51c-c781dca300e3"
      },
      "outputs": [
        {
          "data": {
            "text/plain": [
              "numpy.int64"
            ]
          },
          "execution_count": 25,
          "metadata": {},
          "output_type": "execute_result"
        }
      ],
      "source": [
        "type(arr[0][1])"
      ]
    },
    {
      "cell_type": "code",
      "execution_count": null,
      "metadata": {
        "id": "aewg9q1jATLX"
      },
      "outputs": [],
      "source": [
        "arr  = np.array([[1,3],[3,4]])"
      ]
    },
    {
      "cell_type": "code",
      "execution_count": null,
      "metadata": {
        "id": "f3boZ7ZAATLX",
        "outputId": "7dcc29a5-1618-428e-e616-64597cc6e07e"
      },
      "outputs": [
        {
          "data": {
            "text/plain": [
              "array([[1, 3],\n",
              "       [3, 4]])"
            ]
          },
          "execution_count": 34,
          "metadata": {},
          "output_type": "execute_result"
        }
      ],
      "source": [
        "arr"
      ]
    },
    {
      "cell_type": "code",
      "execution_count": null,
      "metadata": {
        "id": "KTPMRa4rATLX",
        "outputId": "252cd0f3-d2d9-491f-ecb0-fd9b06176afd"
      },
      "outputs": [
        {
          "data": {
            "text/plain": [
              "numpy.int32"
            ]
          },
          "execution_count": 37,
          "metadata": {},
          "output_type": "execute_result"
        }
      ],
      "source": [
        "type(arr[0][1])"
      ]
    },
    {
      "cell_type": "code",
      "execution_count": null,
      "metadata": {
        "id": "7HksqLM6ATLX"
      },
      "outputs": [],
      "source": [
        "mat = np.matrix(arr)"
      ]
    },
    {
      "cell_type": "code",
      "execution_count": null,
      "metadata": {
        "id": "2pnHWkdcATLY"
      },
      "outputs": [],
      "source": [
        "l = [3,4,5,76,7]"
      ]
    },
    {
      "cell_type": "code",
      "execution_count": null,
      "metadata": {
        "id": "CknqVR_ZATLY",
        "outputId": "c7df8798-6a87-429b-95e8-86d04103373f"
      },
      "outputs": [
        {
          "data": {
            "text/plain": [
              "array([ 3,  4,  5, 76,  7])"
            ]
          },
          "execution_count": 41,
          "metadata": {},
          "output_type": "execute_result"
        }
      ],
      "source": [
        "np.array(l)"
      ]
    },
    {
      "cell_type": "code",
      "execution_count": null,
      "metadata": {
        "id": "FK5ZGAPAATLY",
        "outputId": "71b9d31c-b506-4c7b-90e0-adf91fbf4405"
      },
      "outputs": [
        {
          "data": {
            "text/plain": [
              "array([ 3,  4,  5, 76,  7])"
            ]
          },
          "execution_count": 42,
          "metadata": {},
          "output_type": "execute_result"
        }
      ],
      "source": [
        "np.asarray(l)"
      ]
    },
    {
      "cell_type": "code",
      "execution_count": null,
      "metadata": {
        "id": "wmPpV6VSATLY",
        "outputId": "05a97768-20ed-4fad-8327-56de166c4770"
      },
      "outputs": [
        {
          "data": {
            "text/plain": [
              "array([ 3,  4,  5, 76,  7])"
            ]
          },
          "execution_count": 43,
          "metadata": {},
          "output_type": "execute_result"
        }
      ],
      "source": [
        "np.asanyarray(l)"
      ]
    },
    {
      "cell_type": "code",
      "execution_count": null,
      "metadata": {
        "id": "Yq9P743fATLY",
        "outputId": "1190d635-9b75-4535-e65b-3444ee12a861"
      },
      "outputs": [
        {
          "data": {
            "text/plain": [
              "matrix([[1, 3],\n",
              "        [3, 4]])"
            ]
          },
          "execution_count": 45,
          "metadata": {},
          "output_type": "execute_result"
        }
      ],
      "source": [
        "np.asanyarray(mat)"
      ]
    },
    {
      "cell_type": "code",
      "execution_count": null,
      "metadata": {
        "id": "rWUp0kfLATLY",
        "outputId": "addcc22b-1c31-4398-d9f8-fd0eb4afcc70"
      },
      "outputs": [
        {
          "data": {
            "text/plain": [
              "array([[1, 3],\n",
              "       [3, 4]])"
            ]
          },
          "execution_count": 46,
          "metadata": {},
          "output_type": "execute_result"
        }
      ],
      "source": [
        "np.asarray(mat)"
      ]
    },
    {
      "cell_type": "code",
      "execution_count": null,
      "metadata": {
        "id": "HOmQHVcOATLZ",
        "outputId": "628305be-b807-47d0-9a92-bc9a9d706651"
      },
      "outputs": [
        {
          "data": {
            "text/plain": [
              "False"
            ]
          },
          "execution_count": 49,
          "metadata": {},
          "output_type": "execute_result"
        }
      ],
      "source": [
        "issubclass(np.ndarray,np.matrix )"
      ]
    },
    {
      "cell_type": "code",
      "execution_count": null,
      "metadata": {
        "id": "HY7BoFB6ATLZ",
        "outputId": "e46a5e9a-8003-4255-e3cc-ec8f32c4453e"
      },
      "outputs": [
        {
          "data": {
            "text/plain": [
              "array([[1, 3],\n",
              "       [3, 4]])"
            ]
          },
          "execution_count": 50,
          "metadata": {},
          "output_type": "execute_result"
        }
      ],
      "source": [
        "arr"
      ]
    },
    {
      "cell_type": "code",
      "execution_count": null,
      "metadata": {
        "id": "xj1e4BgiATLZ"
      },
      "outputs": [],
      "source": [
        "a= arr"
      ]
    },
    {
      "cell_type": "code",
      "execution_count": null,
      "metadata": {
        "id": "F4wk1Yr_ATLa"
      },
      "outputs": [],
      "source": [
        "b = np.copy(arr)"
      ]
    },
    {
      "cell_type": "code",
      "execution_count": null,
      "metadata": {
        "id": "ni3rFadrATLa"
      },
      "outputs": [],
      "source": [
        "arr[0][0] = 67"
      ]
    },
    {
      "cell_type": "code",
      "execution_count": null,
      "metadata": {
        "id": "TNmdcac3ATLa",
        "outputId": "0a503469-3092-4317-a18a-5e53f86d8770"
      },
      "outputs": [
        {
          "data": {
            "text/plain": [
              "array([[67,  3],\n",
              "       [ 3,  4]])"
            ]
          },
          "execution_count": 54,
          "metadata": {},
          "output_type": "execute_result"
        }
      ],
      "source": [
        "arr"
      ]
    },
    {
      "cell_type": "code",
      "execution_count": null,
      "metadata": {
        "id": "67NGeZt9ATLa",
        "outputId": "13a7aa6f-f984-4653-bdc8-523e8c22fd0e"
      },
      "outputs": [
        {
          "data": {
            "text/plain": [
              "array([[67,  3],\n",
              "       [ 3,  4]])"
            ]
          },
          "execution_count": 55,
          "metadata": {},
          "output_type": "execute_result"
        }
      ],
      "source": [
        "a"
      ]
    },
    {
      "cell_type": "code",
      "execution_count": null,
      "metadata": {
        "id": "K3ckKZqLATLb",
        "outputId": "06a410b1-1cc7-41fc-aab8-1935281da395"
      },
      "outputs": [
        {
          "data": {
            "text/plain": [
              "array([[1, 3],\n",
              "       [3, 4]])"
            ]
          },
          "execution_count": 56,
          "metadata": {},
          "output_type": "execute_result"
        }
      ],
      "source": [
        "b"
      ]
    },
    {
      "cell_type": "code",
      "execution_count": null,
      "metadata": {
        "id": "OvFR7nRKATLb",
        "outputId": "608e6ac0-0099-4565-d6d3-ca1c58f0226a"
      },
      "outputs": [
        {
          "data": {
            "text/plain": [
              "array([3, 4])"
            ]
          },
          "execution_count": 58,
          "metadata": {},
          "output_type": "execute_result"
        }
      ],
      "source": [
        "arr[-1]"
      ]
    },
    {
      "cell_type": "code",
      "execution_count": null,
      "metadata": {
        "id": "bGXbehBGATLb",
        "outputId": "66dd8fc2-cc31-47b0-c91c-7b1b93102351"
      },
      "outputs": [
        {
          "name": "stdout",
          "output_type": "stream",
          "text": [
            "[67  3]\n",
            "[3 4]\n"
          ]
        }
      ],
      "source": [
        "for i in arr:\n",
        "    print(i)"
      ]
    },
    {
      "cell_type": "code",
      "execution_count": null,
      "metadata": {
        "id": "hNY5YlQuATLc",
        "outputId": "f8fe6ef6-1cb0-44dd-f454-51d32258799f"
      },
      "outputs": [
        {
          "data": {
            "text/plain": [
              "numpy.ndarray"
            ]
          },
          "execution_count": 61,
          "metadata": {},
          "output_type": "execute_result"
        }
      ],
      "source": [
        "type(np.fromfunction(lambda i , j :i==j,(4,4)))"
      ]
    },
    {
      "cell_type": "code",
      "execution_count": null,
      "metadata": {
        "id": "47c8h221ATLc",
        "outputId": "066bd6d9-efdb-49bc-b1a3-605ef3e6f07f"
      },
      "outputs": [
        {
          "data": {
            "text/plain": [
              "array([[ True, False, False, False],\n",
              "       [False,  True, False, False],\n",
              "       [False, False,  True, False],\n",
              "       [False, False, False,  True]])"
            ]
          },
          "execution_count": 62,
          "metadata": {},
          "output_type": "execute_result"
        }
      ],
      "source": [
        "np.fromfunction(lambda i , j :i==j,(4,4))"
      ]
    },
    {
      "cell_type": "code",
      "execution_count": null,
      "metadata": {
        "id": "VmxJ7_ZmATLc",
        "outputId": "91911555-939a-4b60-c845-afd1b8d683c3"
      },
      "outputs": [
        {
          "data": {
            "text/plain": [
              "array([[0., 0., 0.],\n",
              "       [0., 1., 2.],\n",
              "       [0., 2., 4.]])"
            ]
          },
          "execution_count": 64,
          "metadata": {},
          "output_type": "execute_result"
        }
      ],
      "source": [
        "np.fromfunction(lambda i , j :i*j,(3,3))"
      ]
    },
    {
      "cell_type": "code",
      "execution_count": null,
      "metadata": {
        "id": "26Awn74VATLc",
        "outputId": "68a31365-7157-4fd3-a30b-9367d3fe9621"
      },
      "outputs": [
        {
          "data": {
            "text/plain": [
              "array([[1., 0., 0.],\n",
              "       [1., 1., 1.],\n",
              "       [1., 2., 4.]])"
            ]
          },
          "execution_count": 65,
          "metadata": {},
          "output_type": "execute_result"
        }
      ],
      "source": [
        "np.fromfunction(lambda i , j :i**j,(3,3))"
      ]
    },
    {
      "cell_type": "code",
      "execution_count": null,
      "metadata": {
        "id": "B0ilIdkyATLc",
        "outputId": "a31cde15-de26-45dd-dc83-a15ac69b0d54"
      },
      "outputs": [
        {
          "name": "stderr",
          "output_type": "stream",
          "text": [
            "<ipython-input-66-a854da4aa4ba>:1: RuntimeWarning: divide by zero encountered in true_divide\n",
            "  np.fromfunction(lambda i , j :i/j,(3,3))\n",
            "<ipython-input-66-a854da4aa4ba>:1: RuntimeWarning: invalid value encountered in true_divide\n",
            "  np.fromfunction(lambda i , j :i/j,(3,3))\n"
          ]
        },
        {
          "data": {
            "text/plain": [
              "array([[nan, 0. , 0. ],\n",
              "       [inf, 1. , 0.5],\n",
              "       [inf, 2. , 1. ]])"
            ]
          },
          "execution_count": 66,
          "metadata": {},
          "output_type": "execute_result"
        }
      ],
      "source": [
        "np.fromfunction(lambda i , j :i/j,(3,3))"
      ]
    },
    {
      "cell_type": "code",
      "execution_count": null,
      "metadata": {
        "id": "4h3I2L9TATLc",
        "outputId": "14bc82a0-c8d5-493e-e539-b553d8cf514d"
      },
      "outputs": [
        {
          "ename": "ZeroDivisionError",
          "evalue": "division by zero",
          "output_type": "error",
          "traceback": [
            "\u001b[1;31m---------------------------------------------------------------------------\u001b[0m",
            "\u001b[1;31mZeroDivisionError\u001b[0m                         Traceback (most recent call last)",
            "\u001b[1;32m<ipython-input-67-9ab73e148374>\u001b[0m in \u001b[0;36m<module>\u001b[1;34m\u001b[0m\n\u001b[1;32m----> 1\u001b[1;33m \u001b[1;36m0\u001b[0m\u001b[1;33m/\u001b[0m\u001b[1;36m0\u001b[0m\u001b[1;33m\u001b[0m\u001b[1;33m\u001b[0m\u001b[0m\n\u001b[0m",
            "\u001b[1;31mZeroDivisionError\u001b[0m: division by zero"
          ]
        }
      ],
      "source": [
        "0/0"
      ]
    },
    {
      "cell_type": "code",
      "execution_count": null,
      "metadata": {
        "id": "UTX0O1kSATLd",
        "outputId": "9520cb65-ee04-4dd0-a8a5-3be0f245b04d"
      },
      "outputs": [
        {
          "ename": "ZeroDivisionError",
          "evalue": "division by zero",
          "output_type": "error",
          "traceback": [
            "\u001b[1;31m---------------------------------------------------------------------------\u001b[0m",
            "\u001b[1;31mZeroDivisionError\u001b[0m                         Traceback (most recent call last)",
            "\u001b[1;32m<ipython-input-68-9e1622b385b6>\u001b[0m in \u001b[0;36m<module>\u001b[1;34m\u001b[0m\n\u001b[1;32m----> 1\u001b[1;33m \u001b[1;36m1\u001b[0m\u001b[1;33m/\u001b[0m\u001b[1;36m0\u001b[0m\u001b[1;33m\u001b[0m\u001b[1;33m\u001b[0m\u001b[0m\n\u001b[0m",
            "\u001b[1;31mZeroDivisionError\u001b[0m: division by zero"
          ]
        }
      ],
      "source": [
        "1/0"
      ]
    },
    {
      "cell_type": "code",
      "execution_count": null,
      "metadata": {
        "id": "DVqbqf91ATLd"
      },
      "outputs": [],
      "source": [
        "gen = (i*i for i in range(5))"
      ]
    },
    {
      "cell_type": "code",
      "execution_count": null,
      "metadata": {
        "id": "lKRrgX8oATLd"
      },
      "outputs": [],
      "source": [
        "def test(x):\n",
        "    yield x "
      ]
    },
    {
      "cell_type": "code",
      "execution_count": null,
      "metadata": {
        "id": "PvdufLOYATLd",
        "outputId": "0734bd9a-dadd-464d-dff8-6e13c33cc09a"
      },
      "outputs": [
        {
          "data": {
            "text/plain": [
              "<generator object test at 0x000002858582D4A0>"
            ]
          },
          "execution_count": 73,
          "metadata": {},
          "output_type": "execute_result"
        }
      ],
      "source": [
        "test(5)"
      ]
    },
    {
      "cell_type": "code",
      "execution_count": null,
      "metadata": {
        "id": "vaxmWg7YATLd"
      },
      "outputs": [],
      "source": [
        "gen\n",
        "for i in gen :\n",
        "    print(i)"
      ]
    },
    {
      "cell_type": "code",
      "execution_count": null,
      "metadata": {
        "id": "Z41yaJDLATLd",
        "outputId": "2a5780be-9645-4dd5-ddb0-ede4950b7c91"
      },
      "outputs": [
        {
          "data": {
            "text/plain": [
              "array([0, 1, 2, 3, 4])"
            ]
          },
          "execution_count": 79,
          "metadata": {},
          "output_type": "execute_result"
        }
      ],
      "source": [
        "np.fromiter(range(5),dtype= int)"
      ]
    },
    {
      "cell_type": "code",
      "execution_count": null,
      "metadata": {
        "id": "o_lBM0HgATLe",
        "outputId": "c96a0304-5c94-4c2f-c25a-38e0a5a87e9c"
      },
      "outputs": [
        {
          "data": {
            "text/plain": [
              "array([1, 3, 4, 5, 5])"
            ]
          },
          "execution_count": 84,
          "metadata": {},
          "output_type": "execute_result"
        }
      ],
      "source": [
        "np.fromstring('1,3,4,5,5' , sep = ',', dtype= int)"
      ]
    },
    {
      "cell_type": "code",
      "execution_count": null,
      "metadata": {
        "id": "shADhC4HATLe",
        "outputId": "4b7821da-e921-47dc-f9b3-04d33355fe5c"
      },
      "outputs": [
        {
          "data": {
            "text/plain": [
              "array([  456.+0.j,   456.+0.j,  3454.+0.j, 34543.+0.j])"
            ]
          },
          "execution_count": 86,
          "metadata": {},
          "output_type": "execute_result"
        }
      ],
      "source": [
        "np.fromstring(\"456 456 3454 34543\" ,sep = ' ', dtype= complex)"
      ]
    },
    {
      "cell_type": "code",
      "execution_count": null,
      "metadata": {
        "id": "o1WJNNXBATLe"
      },
      "outputs": [],
      "source": [
        "l = [3,4,5,6,7,8]"
      ]
    },
    {
      "cell_type": "code",
      "execution_count": null,
      "metadata": {
        "id": "hX7awGvBATLe"
      },
      "outputs": [],
      "source": [
        "arr = np.array(l)"
      ]
    },
    {
      "cell_type": "code",
      "execution_count": null,
      "metadata": {
        "id": "dcpGFwkYATLe"
      },
      "outputs": [],
      "source": [
        "arr1 = np.array([[1,2,3,4] , [2,3,4,5] , [4,5,6,7]])"
      ]
    },
    {
      "cell_type": "code",
      "execution_count": null,
      "metadata": {
        "id": "EO1GCg9HATLe",
        "outputId": "89f9509e-527f-4fd8-d7c9-2591f438009e"
      },
      "outputs": [
        {
          "data": {
            "text/plain": [
              "array([[1, 2, 3, 4],\n",
              "       [2, 3, 4, 5],\n",
              "       [4, 5, 6, 7]])"
            ]
          },
          "execution_count": 95,
          "metadata": {},
          "output_type": "execute_result"
        }
      ],
      "source": [
        "arr1"
      ]
    },
    {
      "cell_type": "code",
      "execution_count": null,
      "metadata": {
        "id": "FAnHXUhbATLe",
        "outputId": "e1773f7f-701f-42e0-da34-bc784d6228b9"
      },
      "outputs": [
        {
          "data": {
            "text/plain": [
              "numpy.ndarray"
            ]
          },
          "execution_count": 96,
          "metadata": {},
          "output_type": "execute_result"
        }
      ],
      "source": [
        "type(arr)"
      ]
    },
    {
      "cell_type": "code",
      "execution_count": null,
      "metadata": {
        "id": "KV-QO8wSATLe",
        "outputId": "886c5e2a-007b-4fc4-9fa8-4d5f1a420024"
      },
      "outputs": [
        {
          "data": {
            "text/plain": [
              "2"
            ]
          },
          "execution_count": 97,
          "metadata": {},
          "output_type": "execute_result"
        }
      ],
      "source": [
        "arr1.ndim"
      ]
    },
    {
      "cell_type": "code",
      "execution_count": null,
      "metadata": {
        "id": "tqQSQRkZATLf",
        "outputId": "d62ea2aa-bab2-40dc-df81-acdc507f2d78"
      },
      "outputs": [
        {
          "data": {
            "text/plain": [
              "12"
            ]
          },
          "execution_count": 98,
          "metadata": {},
          "output_type": "execute_result"
        }
      ],
      "source": [
        "arr1.size"
      ]
    },
    {
      "cell_type": "code",
      "execution_count": null,
      "metadata": {
        "id": "3OpWihtlATLf",
        "outputId": "adb191d5-3638-4cb4-eee4-8f3bff27be96"
      },
      "outputs": [
        {
          "data": {
            "text/plain": [
              "(3, 4)"
            ]
          },
          "execution_count": 99,
          "metadata": {},
          "output_type": "execute_result"
        }
      ],
      "source": [
        "arr1.shape\n"
      ]
    },
    {
      "cell_type": "code",
      "execution_count": null,
      "metadata": {
        "id": "2J-wa8oiATLf",
        "outputId": "cde3fa10-0ee3-49b2-ab0a-a7d3eee8d607"
      },
      "outputs": [
        {
          "data": {
            "text/plain": [
              "dtype('int32')"
            ]
          },
          "execution_count": 100,
          "metadata": {},
          "output_type": "execute_result"
        }
      ],
      "source": [
        "arr1.dtype"
      ]
    },
    {
      "cell_type": "code",
      "execution_count": null,
      "metadata": {
        "id": "pOe_g4B6ATLf",
        "outputId": "916f2ba0-d6f5-433c-852a-da2ba099820c"
      },
      "outputs": [
        {
          "data": {
            "text/plain": [
              "array([3, 4, 5, 6, 7, 8])"
            ]
          },
          "execution_count": 101,
          "metadata": {},
          "output_type": "execute_result"
        }
      ],
      "source": [
        "arr"
      ]
    },
    {
      "cell_type": "code",
      "execution_count": null,
      "metadata": {
        "id": "6IPcze7XATLf",
        "outputId": "015d24e1-4e90-4648-e8ff-00f221146edf"
      },
      "outputs": [
        {
          "data": {
            "text/plain": [
              "6"
            ]
          },
          "execution_count": 102,
          "metadata": {},
          "output_type": "execute_result"
        }
      ],
      "source": [
        "arr.size"
      ]
    },
    {
      "cell_type": "code",
      "execution_count": null,
      "metadata": {
        "id": "vsJqpR1zATLf",
        "outputId": "3f41754f-a3cb-459f-8f26-4c86acc4591e"
      },
      "outputs": [
        {
          "data": {
            "text/plain": [
              "1"
            ]
          },
          "execution_count": 103,
          "metadata": {},
          "output_type": "execute_result"
        }
      ],
      "source": [
        "arr.ndim"
      ]
    },
    {
      "cell_type": "code",
      "execution_count": null,
      "metadata": {
        "id": "CJRNzC6MATLf",
        "outputId": "426c2f68-f47b-431d-8e25-72c56df2cb89"
      },
      "outputs": [
        {
          "data": {
            "text/plain": [
              "(6,)"
            ]
          },
          "execution_count": 104,
          "metadata": {},
          "output_type": "execute_result"
        }
      ],
      "source": [
        "arr.shape"
      ]
    },
    {
      "cell_type": "code",
      "execution_count": null,
      "metadata": {
        "id": "K3GN9lHFATLg"
      },
      "outputs": [],
      "source": [
        "arr2 = np.array([[[1,2,3,4],[4,5,6,7]],[[1,2,3,4],[4,5,6,7]]])"
      ]
    },
    {
      "cell_type": "code",
      "execution_count": null,
      "metadata": {
        "id": "8-NW5OrKATLg",
        "outputId": "8621503e-82f1-4704-d221-d41643935b45"
      },
      "outputs": [
        {
          "data": {
            "text/plain": [
              "array([[[1, 2, 3, 4],\n",
              "        [4, 5, 6, 7]],\n",
              "\n",
              "       [[1, 2, 3, 4],\n",
              "        [4, 5, 6, 7]]])"
            ]
          },
          "execution_count": 109,
          "metadata": {},
          "output_type": "execute_result"
        }
      ],
      "source": [
        "arr2\n"
      ]
    },
    {
      "cell_type": "code",
      "execution_count": null,
      "metadata": {
        "id": "sl_na3oGATLg",
        "outputId": "967abca4-d45b-4beb-b069-66be876bd544"
      },
      "outputs": [
        {
          "data": {
            "text/plain": [
              "16"
            ]
          },
          "execution_count": 110,
          "metadata": {},
          "output_type": "execute_result"
        }
      ],
      "source": [
        "arr2.size"
      ]
    },
    {
      "cell_type": "code",
      "execution_count": null,
      "metadata": {
        "id": "0K5HCxSfATLg",
        "outputId": "67041310-0cd0-43c6-db83-9b84f764cd5a"
      },
      "outputs": [
        {
          "data": {
            "text/plain": [
              "3"
            ]
          },
          "execution_count": 111,
          "metadata": {},
          "output_type": "execute_result"
        }
      ],
      "source": [
        "arr2.ndim"
      ]
    },
    {
      "cell_type": "code",
      "execution_count": null,
      "metadata": {
        "id": "n0ZwwxqKATLg",
        "outputId": "22fc00d0-77a0-406c-c8a7-80eaad16854a"
      },
      "outputs": [
        {
          "data": {
            "text/plain": [
              "(2, 2, 4)"
            ]
          },
          "execution_count": 112,
          "metadata": {},
          "output_type": "execute_result"
        }
      ],
      "source": [
        "arr2.shape"
      ]
    },
    {
      "cell_type": "code",
      "execution_count": null,
      "metadata": {
        "id": "t2KVQqYlATLh"
      },
      "outputs": [],
      "source": [
        "arr4 = np.array([[[[1,2,3,4],[4,5,6,7]],[[1,2,3,4],[4,5,6,7]],[[1,2,3,4],[4,5,6,7]],[[1,2,3,4],[4,5,6,7]]]])"
      ]
    },
    {
      "cell_type": "code",
      "execution_count": null,
      "metadata": {
        "id": "HLPkTBNIATLh",
        "outputId": "f9f395bc-3656-4c07-c5f0-68cd1d768770"
      },
      "outputs": [
        {
          "data": {
            "text/plain": [
              "array([[[[1, 2, 3, 4],\n",
              "         [4, 5, 6, 7]],\n",
              "\n",
              "        [[1, 2, 3, 4],\n",
              "         [4, 5, 6, 7]],\n",
              "\n",
              "        [[1, 2, 3, 4],\n",
              "         [4, 5, 6, 7]],\n",
              "\n",
              "        [[1, 2, 3, 4],\n",
              "         [4, 5, 6, 7]]]])"
            ]
          },
          "execution_count": 117,
          "metadata": {},
          "output_type": "execute_result"
        }
      ],
      "source": [
        "arr4"
      ]
    },
    {
      "cell_type": "code",
      "execution_count": null,
      "metadata": {
        "id": "sfaL21G2ATLh",
        "outputId": "d7e7cc57-4c93-4970-e012-5563316db5d2"
      },
      "outputs": [
        {
          "data": {
            "text/plain": [
              "4"
            ]
          },
          "execution_count": 118,
          "metadata": {},
          "output_type": "execute_result"
        }
      ],
      "source": [
        "arr4.ndim"
      ]
    },
    {
      "cell_type": "code",
      "execution_count": null,
      "metadata": {
        "id": "mhmtvlHbATLh",
        "outputId": "b0cb1c57-5e3d-47bc-feba-ed18690ebd2a"
      },
      "outputs": [
        {
          "data": {
            "text/plain": [
              "(1, 4, 2, 4)"
            ]
          },
          "execution_count": 120,
          "metadata": {},
          "output_type": "execute_result"
        }
      ],
      "source": [
        "arr4.shape"
      ]
    },
    {
      "cell_type": "code",
      "execution_count": null,
      "metadata": {
        "id": "b32Qvv8LATLh",
        "outputId": "8506b3ef-d2e7-4e06-c868-8bc573b961df"
      },
      "outputs": [
        {
          "ename": "TypeError",
          "evalue": "'float' object cannot be interpreted as an integer",
          "output_type": "error",
          "traceback": [
            "\u001b[1;31m---------------------------------------------------------------------------\u001b[0m",
            "\u001b[1;31mTypeError\u001b[0m                                 Traceback (most recent call last)",
            "\u001b[1;32m<ipython-input-123-db7bc9899f1b>\u001b[0m in \u001b[0;36m<module>\u001b[1;34m\u001b[0m\n\u001b[1;32m----> 1\u001b[1;33m \u001b[0mlist\u001b[0m\u001b[1;33m(\u001b[0m\u001b[0mrange\u001b[0m\u001b[1;33m(\u001b[0m\u001b[1;36m6.6\u001b[0m\u001b[1;33m)\u001b[0m\u001b[1;33m)\u001b[0m\u001b[1;33m\u001b[0m\u001b[1;33m\u001b[0m\u001b[0m\n\u001b[0m",
            "\u001b[1;31mTypeError\u001b[0m: 'float' object cannot be interpreted as an integer"
          ]
        }
      ],
      "source": [
        "list(range(6.6,9,.3))"
      ]
    },
    {
      "cell_type": "code",
      "execution_count": null,
      "metadata": {
        "id": "EHKjlUZNATLh",
        "outputId": "88d29b3e-368e-437c-8576-4691b8f03e5f"
      },
      "outputs": [
        {
          "data": {
            "text/plain": [
              "array([9. , 8.7, 8.4, 8.1, 7.8, 7.5, 7.2, 6.9, 6.6])"
            ]
          },
          "execution_count": 127,
          "metadata": {},
          "output_type": "execute_result"
        }
      ],
      "source": [
        "np.arange(9,6.6,-.3)"
      ]
    },
    {
      "cell_type": "code",
      "execution_count": null,
      "metadata": {
        "id": "REnY_8oUATLi",
        "outputId": "5cae54d7-ccbc-461a-e894-57f9284177c4"
      },
      "outputs": [
        {
          "data": {
            "text/plain": [
              "array([1, 2, 3, 4, 5, 6, 7, 8])"
            ]
          },
          "execution_count": 128,
          "metadata": {},
          "output_type": "execute_result"
        }
      ],
      "source": [
        "np.arange(1,9)"
      ]
    },
    {
      "cell_type": "code",
      "execution_count": null,
      "metadata": {
        "id": "YBYgdbuEATLi",
        "outputId": "902e1115-b3d8-42fe-d5e8-3b61c8fd5c5c"
      },
      "outputs": [
        {
          "data": {
            "text/plain": [
              "array([ 1.  ,  3.25,  5.5 ,  7.75, 10.  ])"
            ]
          },
          "execution_count": 140,
          "metadata": {},
          "output_type": "execute_result"
        }
      ],
      "source": [
        "np.linspace(1,10,5)"
      ]
    },
    {
      "cell_type": "code",
      "execution_count": null,
      "metadata": {
        "id": "hetvGDFhATLi",
        "outputId": "300d4f00-fbb4-46c5-c394-337039aba1ae"
      },
      "outputs": [
        {
          "data": {
            "text/plain": [
              "array([0., 0., 0., 0., 0.])"
            ]
          },
          "execution_count": 141,
          "metadata": {},
          "output_type": "execute_result"
        }
      ],
      "source": [
        "np.zeros(5)"
      ]
    },
    {
      "cell_type": "code",
      "execution_count": null,
      "metadata": {
        "id": "EvOIE_wvATLi",
        "outputId": "1e7cfa50-7d7b-45bf-e8f5-2d37f8d41b78"
      },
      "outputs": [
        {
          "data": {
            "text/plain": [
              "array([[[0., 0., 0., 0.],\n",
              "        [0., 0., 0., 0.],\n",
              "        [0., 0., 0., 0.],\n",
              "        [0., 0., 0., 0.],\n",
              "        [0., 0., 0., 0.]],\n",
              "\n",
              "       [[0., 0., 0., 0.],\n",
              "        [0., 0., 0., 0.],\n",
              "        [0., 0., 0., 0.],\n",
              "        [0., 0., 0., 0.],\n",
              "        [0., 0., 0., 0.]]])"
            ]
          },
          "execution_count": 145,
          "metadata": {},
          "output_type": "execute_result"
        }
      ],
      "source": [
        "np.zeros((2,5,4))"
      ]
    },
    {
      "cell_type": "code",
      "execution_count": null,
      "metadata": {
        "id": "zBH1myuuATLi",
        "outputId": "6b22cf2c-60d5-4107-8314-e9244cded704"
      },
      "outputs": [
        {
          "data": {
            "text/plain": [
              "array([1., 1., 1., 1.])"
            ]
          },
          "execution_count": 146,
          "metadata": {},
          "output_type": "execute_result"
        }
      ],
      "source": [
        "np.ones(4)"
      ]
    },
    {
      "cell_type": "code",
      "execution_count": null,
      "metadata": {
        "id": "xvNx8zwhATLi",
        "outputId": "b3fc8c29-a8ad-4d81-d9f8-27269a4ab466"
      },
      "outputs": [
        {
          "data": {
            "text/plain": [
              "array([[[6.],\n",
              "        [6.],\n",
              "        [6.]],\n",
              "\n",
              "       [[6.],\n",
              "        [6.],\n",
              "        [6.]]])"
            ]
          },
          "execution_count": 149,
          "metadata": {},
          "output_type": "execute_result"
        }
      ],
      "source": [
        "np.ones((2,3,1))+5"
      ]
    },
    {
      "cell_type": "code",
      "execution_count": null,
      "metadata": {
        "id": "xJe8chM8ATLj",
        "outputId": "21b8c050-ad5b-4173-b377-5da3b874979d"
      },
      "outputs": [
        {
          "data": {
            "text/plain": [
              "array([0., 0., 0., 0., 0.])"
            ]
          },
          "execution_count": 150,
          "metadata": {},
          "output_type": "execute_result"
        }
      ],
      "source": [
        "np.empty(5)"
      ]
    },
    {
      "cell_type": "code",
      "execution_count": null,
      "metadata": {
        "id": "UOkbDcttATLj",
        "outputId": "c8ce5349-4058-41e3-8625-8cee82cb106c"
      },
      "outputs": [
        {
          "data": {
            "text/plain": [
              "array([[1.36976717e-311, 2.47032823e-322, 0.00000000e+000,\n",
              "        0.00000000e+000],\n",
              "       [0.00000000e+000, 8.60952352e-072, 4.22470126e-090,\n",
              "        1.80194451e+185],\n",
              "       [8.31857002e-072, 1.79218578e+160, 3.99910963e+252,\n",
              "        1.29200800e+161]])"
            ]
          },
          "execution_count": 151,
          "metadata": {},
          "output_type": "execute_result"
        }
      ],
      "source": [
        "np.empty((3,4))"
      ]
    },
    {
      "cell_type": "code",
      "execution_count": null,
      "metadata": {
        "id": "AoJNEcZqATLj",
        "outputId": "36b595c8-d2c1-44e8-a14b-16b2e05106b1"
      },
      "outputs": [
        {
          "data": {
            "text/plain": [
              "array([[1., 0., 0.],\n",
              "       [0., 1., 0.],\n",
              "       [0., 0., 1.]])"
            ]
          },
          "execution_count": 152,
          "metadata": {},
          "output_type": "execute_result"
        }
      ],
      "source": [
        "np.eye(3)"
      ]
    },
    {
      "cell_type": "code",
      "execution_count": null,
      "metadata": {
        "id": "tG1jwT16ATLj",
        "outputId": "a5d25ffb-f132-47ec-de56-96b04e375023"
      },
      "outputs": [
        {
          "data": {
            "text/plain": [
              "array([[1.  , 1.06, 1.12, 1.18, 1.24, 1.3 , 1.36, 1.42, 1.48, 1.54, 1.6 ,\n",
              "        1.66, 1.72, 1.78, 1.84, 1.9 , 1.96, 2.02, 2.08, 2.14, 2.2 , 2.26,\n",
              "        2.32, 2.38, 2.44, 2.5 , 2.56, 2.62, 2.68, 2.74, 2.8 , 2.86, 2.92,\n",
              "        2.98, 3.04, 3.1 , 3.16, 3.22, 3.28, 3.34, 3.4 , 3.46, 3.52, 3.58,\n",
              "        3.64, 3.7 , 3.76, 3.82, 3.88, 3.94],\n",
              "       [6.  , 5.96, 5.92, 5.88, 5.84, 5.8 , 5.76, 5.72, 5.68, 5.64, 5.6 ,\n",
              "        5.56, 5.52, 5.48, 5.44, 5.4 , 5.36, 5.32, 5.28, 5.24, 5.2 , 5.16,\n",
              "        5.12, 5.08, 5.04, 5.  , 4.96, 4.92, 4.88, 4.84, 4.8 , 4.76, 4.72,\n",
              "        4.68, 4.64, 4.6 , 4.56, 4.52, 4.48, 4.44, 4.4 , 4.36, 4.32, 4.28,\n",
              "        4.24, 4.2 , 4.16, 4.12, 4.08, 4.04]])"
            ]
          },
          "execution_count": 160,
          "metadata": {},
          "output_type": "execute_result"
        }
      ],
      "source": [
        "np.linspace([1,6],4,endpoint=False,axis=1)"
      ]
    },
    {
      "cell_type": "code",
      "execution_count": null,
      "metadata": {
        "id": "jAVqPcSNATLj",
        "outputId": "6d55fe89-325e-41de-99fd-a06e26f43993"
      },
      "outputs": [
        {
          "data": {
            "text/plain": [
              "array([[ 100.        ],\n",
              "       [ 104.81131342],\n",
              "       [ 109.8541142 ],\n",
              "       [ 115.13953993],\n",
              "       [ 120.67926406],\n",
              "       [ 126.48552169],\n",
              "       [ 132.57113656],\n",
              "       [ 138.94954944],\n",
              "       [ 145.63484775],\n",
              "       [ 152.64179672],\n",
              "       [ 159.98587196],\n",
              "       [ 167.68329368],\n",
              "       [ 175.75106249],\n",
              "       [ 184.20699693],\n",
              "       [ 193.06977289],\n",
              "       [ 202.35896477],\n",
              "       [ 212.09508879],\n",
              "       [ 222.29964825],\n",
              "       [ 232.99518105],\n",
              "       [ 244.20530945],\n",
              "       [ 255.95479227],\n",
              "       [ 268.26957953],\n",
              "       [ 281.1768698 ],\n",
              "       [ 294.70517026],\n",
              "       [ 308.88435965],\n",
              "       [ 323.74575428],\n",
              "       [ 339.32217719],\n",
              "       [ 355.64803062],\n",
              "       [ 372.75937203],\n",
              "       [ 390.69399371],\n",
              "       [ 409.49150624],\n",
              "       [ 429.19342601],\n",
              "       [ 449.8432669 ],\n",
              "       [ 471.48663635],\n",
              "       [ 494.17133613],\n",
              "       [ 517.94746792],\n",
              "       [ 542.86754393],\n",
              "       [ 568.9866029 ],\n",
              "       [ 596.36233166],\n",
              "       [ 625.05519253],\n",
              "       [ 655.12855686],\n",
              "       [ 686.648845  ],\n",
              "       [ 719.685673  ],\n",
              "       [ 754.31200634],\n",
              "       [ 790.60432109],\n",
              "       [ 828.64277285],\n",
              "       [ 868.51137375],\n",
              "       [ 910.29817799],\n",
              "       [ 954.09547635],\n",
              "       [1000.        ]])"
            ]
          },
          "execution_count": 170,
          "metadata": {},
          "output_type": "execute_result"
        }
      ],
      "source": [
        "np.logspace([2],[3] , axis = 0)"
      ]
    },
    {
      "cell_type": "code",
      "execution_count": null,
      "metadata": {
        "id": "p_5EeuBNATLk"
      },
      "outputs": [],
      "source": [
        "d = np.linspace(4,7,40)"
      ]
    },
    {
      "cell_type": "code",
      "execution_count": null,
      "metadata": {
        "id": "cdDunUlkATLk",
        "outputId": "befcf4df-c475-434d-d4fe-929051900831"
      },
      "outputs": [
        {
          "data": {
            "text/plain": [
              "array([4.        , 4.07692308, 4.15384615, 4.23076923, 4.30769231,\n",
              "       4.38461538, 4.46153846, 4.53846154, 4.61538462, 4.69230769,\n",
              "       4.76923077, 4.84615385, 4.92307692, 5.        , 5.07692308,\n",
              "       5.15384615, 5.23076923, 5.30769231, 5.38461538, 5.46153846,\n",
              "       5.53846154, 5.61538462, 5.69230769, 5.76923077, 5.84615385,\n",
              "       5.92307692, 6.        , 6.07692308, 6.15384615, 6.23076923,\n",
              "       6.30769231, 6.38461538, 6.46153846, 6.53846154, 6.61538462,\n",
              "       6.69230769, 6.76923077, 6.84615385, 6.92307692, 7.        ])"
            ]
          },
          "execution_count": 172,
          "metadata": {},
          "output_type": "execute_result"
        }
      ],
      "source": [
        "d"
      ]
    },
    {
      "cell_type": "code",
      "execution_count": null,
      "metadata": {
        "id": "YkcOGbzzATLk",
        "outputId": "e5cdf333-38f4-4e1d-ac37-a9c6715b363b"
      },
      "outputs": [
        {
          "data": {
            "text/plain": [
              "1"
            ]
          },
          "execution_count": 173,
          "metadata": {},
          "output_type": "execute_result"
        }
      ],
      "source": [
        "d.ndim"
      ]
    },
    {
      "cell_type": "code",
      "execution_count": null,
      "metadata": {
        "id": "fo9O1-FAATLk",
        "outputId": "09605afd-714f-49bf-8931-6d68660576c3"
      },
      "outputs": [
        {
          "data": {
            "text/plain": [
              "(40,)"
            ]
          },
          "execution_count": 174,
          "metadata": {},
          "output_type": "execute_result"
        }
      ],
      "source": [
        "d.shape"
      ]
    },
    {
      "cell_type": "code",
      "execution_count": null,
      "metadata": {
        "id": "4TYWLTutATLk",
        "outputId": "aeb69d3e-cce0-48a9-e412-0767b4e70015"
      },
      "outputs": [
        {
          "data": {
            "text/plain": [
              "array([[4.        ],\n",
              "       [4.07692308],\n",
              "       [4.15384615],\n",
              "       [4.23076923],\n",
              "       [4.30769231],\n",
              "       [4.38461538],\n",
              "       [4.46153846],\n",
              "       [4.53846154],\n",
              "       [4.61538462],\n",
              "       [4.69230769],\n",
              "       [4.76923077],\n",
              "       [4.84615385],\n",
              "       [4.92307692],\n",
              "       [5.        ],\n",
              "       [5.07692308],\n",
              "       [5.15384615],\n",
              "       [5.23076923],\n",
              "       [5.30769231],\n",
              "       [5.38461538],\n",
              "       [5.46153846],\n",
              "       [5.53846154],\n",
              "       [5.61538462],\n",
              "       [5.69230769],\n",
              "       [5.76923077],\n",
              "       [5.84615385],\n",
              "       [5.92307692],\n",
              "       [6.        ],\n",
              "       [6.07692308],\n",
              "       [6.15384615],\n",
              "       [6.23076923],\n",
              "       [6.30769231],\n",
              "       [6.38461538],\n",
              "       [6.46153846],\n",
              "       [6.53846154],\n",
              "       [6.61538462],\n",
              "       [6.69230769],\n",
              "       [6.76923077],\n",
              "       [6.84615385],\n",
              "       [6.92307692],\n",
              "       [7.        ]])"
            ]
          },
          "execution_count": 175,
          "metadata": {},
          "output_type": "execute_result"
        }
      ],
      "source": [
        "d.reshape(40,1)"
      ]
    },
    {
      "cell_type": "code",
      "execution_count": null,
      "metadata": {
        "id": "lv1JMaGPATLk",
        "outputId": "acfbbcbf-9922-4b31-d291-7f683f9ed1be"
      },
      "outputs": [
        {
          "data": {
            "text/plain": [
              "array([[[4.        , 4.07692308, 4.15384615, 4.23076923, 4.30769231,\n",
              "         4.38461538, 4.46153846, 4.53846154, 4.61538462, 4.69230769],\n",
              "        [4.76923077, 4.84615385, 4.92307692, 5.        , 5.07692308,\n",
              "         5.15384615, 5.23076923, 5.30769231, 5.38461538, 5.46153846],\n",
              "        [5.53846154, 5.61538462, 5.69230769, 5.76923077, 5.84615385,\n",
              "         5.92307692, 6.        , 6.07692308, 6.15384615, 6.23076923],\n",
              "        [6.30769231, 6.38461538, 6.46153846, 6.53846154, 6.61538462,\n",
              "         6.69230769, 6.76923077, 6.84615385, 6.92307692, 7.        ]]])"
            ]
          },
          "execution_count": 180,
          "metadata": {},
          "output_type": "execute_result"
        }
      ],
      "source": [
        "d.reshape(1,4,10)"
      ]
    },
    {
      "cell_type": "code",
      "execution_count": null,
      "metadata": {
        "id": "rTUR9RokATLl",
        "outputId": "95dcf9c6-6deb-4160-c603-6e308f7cc6a3"
      },
      "outputs": [
        {
          "data": {
            "text/plain": [
              "array([   100.        ,    215.443469  ,    464.15888336,   1000.        ,\n",
              "         2154.43469003,   4641.58883361,  10000.        ,  21544.34690032,\n",
              "        46415.88833613, 100000.        ])"
            ]
          },
          "execution_count": 181,
          "metadata": {},
          "output_type": "execute_result"
        }
      ],
      "source": [
        "np.logspace(2,5,10)\n"
      ]
    },
    {
      "cell_type": "code",
      "execution_count": null,
      "metadata": {
        "id": "_waysMHtATLl",
        "outputId": "1e1ca2fc-c58a-4b51-e5cd-ed1c0fbe9d64"
      },
      "outputs": [
        {
          "data": {
            "text/plain": [
              "array([0.55386094, 0.36578256, 0.18724663])"
            ]
          },
          "execution_count": 182,
          "metadata": {},
          "output_type": "execute_result"
        }
      ],
      "source": [
        "np.random.rand(3)"
      ]
    },
    {
      "cell_type": "code",
      "execution_count": null,
      "metadata": {
        "id": "vosVx2HCATLl",
        "outputId": "744f9db3-9786-4c99-d662-85181b726a90"
      },
      "outputs": [
        {
          "data": {
            "text/plain": [
              "array([-0.99738232, -0.29937244, -1.6336683 , -0.37804326, -0.73977523])"
            ]
          },
          "execution_count": 183,
          "metadata": {},
          "output_type": "execute_result"
        }
      ],
      "source": [
        "np.random.randn(5)"
      ]
    },
    {
      "cell_type": "code",
      "execution_count": null,
      "metadata": {
        "id": "Yrot8ZEKATLl",
        "outputId": "743d6ccb-8ced-4f35-df7f-89a9ca768178"
      },
      "outputs": [
        {
          "data": {
            "text/plain": [
              "array([[[ 1.47338029,  0.61271404, -1.4075616 ],\n",
              "        [ 0.76839332, -0.12216353, -0.09569462]],\n",
              "\n",
              "       [[ 0.84685866,  0.53664687,  0.38711111],\n",
              "        [-0.32053034,  0.53523058, -0.76029515]]])"
            ]
          },
          "execution_count": 194,
          "metadata": {},
          "output_type": "execute_result"
        }
      ],
      "source": [
        "np.random.randn(2,2,3)"
      ]
    },
    {
      "cell_type": "code",
      "execution_count": null,
      "metadata": {
        "id": "O30Cziu_ATLm",
        "outputId": "453b1e0f-a499-4b9b-afea-a32956f29fac"
      },
      "outputs": [
        {
          "data": {
            "text/plain": [
              "array([[30, 50, 58, 40],\n",
              "       [10, 51, 38, 26],\n",
              "       [19, 10, 14, 55],\n",
              "       [ 8, 32, 59, 39]])"
            ]
          },
          "execution_count": 203,
          "metadata": {},
          "output_type": "execute_result"
        }
      ],
      "source": [
        "np.random.randint(5,60, (4,4))"
      ]
    },
    {
      "cell_type": "code",
      "execution_count": null,
      "metadata": {
        "id": "L_aQnn-mATLn",
        "outputId": "9b45ad75-3768-4c4c-b1be-9ad47b13575f"
      },
      "outputs": [
        {
          "data": {
            "text/plain": [
              "array([[[-0.18658137, -2.62084719,  0.05678706],\n",
              "        [ 0.80066306,  0.32081787,  0.04011781]],\n",
              "\n",
              "       [[-0.67044971, -0.26951513,  1.56406203],\n",
              "        [ 1.70218004, -1.43323041, -1.91830673]]])"
            ]
          },
          "execution_count": 204,
          "metadata": {},
          "output_type": "execute_result"
        }
      ],
      "source": [
        "np.random.randn(2,2,3)"
      ]
    },
    {
      "cell_type": "code",
      "execution_count": null,
      "metadata": {
        "id": "5D3qvCt8ATLn"
      },
      "outputs": [],
      "source": [
        "arr = np.random.randint(3,9, ( 3,3))"
      ]
    },
    {
      "cell_type": "code",
      "execution_count": null,
      "metadata": {
        "id": "17OHqpOvATLn",
        "outputId": "d2163fcc-554f-4e3d-dfae-eca6a9ba788f"
      },
      "outputs": [
        {
          "data": {
            "text/plain": [
              "array([[5, 3, 5],\n",
              "       [7, 6, 4],\n",
              "       [7, 6, 7]])"
            ]
          },
          "execution_count": 206,
          "metadata": {},
          "output_type": "execute_result"
        }
      ],
      "source": [
        "arr"
      ]
    },
    {
      "cell_type": "code",
      "execution_count": null,
      "metadata": {
        "id": "4L7XxvOaATLn",
        "outputId": "6c4cb15e-9122-46ab-dc25-15634eb6923c"
      },
      "outputs": [
        {
          "data": {
            "text/plain": [
              "array([[5, 3, 5, 7, 6, 4, 7, 6, 7]])"
            ]
          },
          "execution_count": 207,
          "metadata": {},
          "output_type": "execute_result"
        }
      ],
      "source": [
        "arr.reshape(1,9)"
      ]
    },
    {
      "cell_type": "code",
      "execution_count": null,
      "metadata": {
        "id": "i4NbTHGFATLn",
        "outputId": "fd469581-536a-4674-c1d7-719d8a0158e1"
      },
      "outputs": [
        {
          "data": {
            "text/plain": [
              "array([[5],\n",
              "       [3],\n",
              "       [5],\n",
              "       [7],\n",
              "       [6],\n",
              "       [4],\n",
              "       [7],\n",
              "       [6],\n",
              "       [7]])"
            ]
          },
          "execution_count": 208,
          "metadata": {},
          "output_type": "execute_result"
        }
      ],
      "source": [
        "arr.reshape(9,1)"
      ]
    },
    {
      "cell_type": "code",
      "execution_count": null,
      "metadata": {
        "id": "FA9D810FATLn",
        "outputId": "08ce9a01-5b7c-40b0-b094-9728f7a8bc2c"
      },
      "outputs": [
        {
          "data": {
            "text/plain": [
              "array([[[5, 3, 5, 7, 6, 4, 7, 6, 7]]])"
            ]
          },
          "execution_count": 209,
          "metadata": {},
          "output_type": "execute_result"
        }
      ],
      "source": [
        "arr.reshape(1,1,9)"
      ]
    },
    {
      "cell_type": "code",
      "execution_count": null,
      "metadata": {
        "id": "PW7_9AI3ATLo",
        "outputId": "2b270cf1-31eb-4580-eea8-892a0bfeb01b"
      },
      "outputs": [
        {
          "data": {
            "text/plain": [
              "array([[[5],\n",
              "        [3],\n",
              "        [5]],\n",
              "\n",
              "       [[7],\n",
              "        [6],\n",
              "        [4]],\n",
              "\n",
              "       [[7],\n",
              "        [6],\n",
              "        [7]]])"
            ]
          },
          "execution_count": 210,
          "metadata": {},
          "output_type": "execute_result"
        }
      ],
      "source": [
        "arr.reshape(3,3,1)"
      ]
    },
    {
      "cell_type": "code",
      "execution_count": null,
      "metadata": {
        "id": "uCtT-OvLATLo",
        "outputId": "45ef6d8e-2789-4b7e-cd27-1408c302b005"
      },
      "outputs": [
        {
          "data": {
            "text/plain": [
              "array([[5, 3, 5],\n",
              "       [7, 6, 4],\n",
              "       [7, 6, 7]])"
            ]
          },
          "execution_count": 215,
          "metadata": {},
          "output_type": "execute_result"
        }
      ],
      "source": [
        "arr.reshape(3,-198979)"
      ]
    },
    {
      "cell_type": "code",
      "execution_count": null,
      "metadata": {
        "id": "GObE9uZ-ATLo",
        "outputId": "1f4bcd26-6e12-4865-c625-85fe3f39e4fd"
      },
      "outputs": [
        {
          "data": {
            "text/plain": [
              "array([[5, 3, 5, 7, 6, 4, 7, 6, 7]])"
            ]
          },
          "execution_count": 217,
          "metadata": {},
          "output_type": "execute_result"
        }
      ],
      "source": [
        "arr.reshape(1,-145654656)"
      ]
    },
    {
      "cell_type": "code",
      "execution_count": null,
      "metadata": {
        "id": "ykPYqQgGATLo",
        "outputId": "9db75dbd-7da2-42f2-dd6f-e001b344100e"
      },
      "outputs": [
        {
          "data": {
            "text/plain": [
              "array([[5, 3, 5],\n",
              "       [7, 6, 4],\n",
              "       [7, 6, 7]])"
            ]
          },
          "execution_count": 218,
          "metadata": {},
          "output_type": "execute_result"
        }
      ],
      "source": [
        "arr"
      ]
    },
    {
      "cell_type": "code",
      "execution_count": null,
      "metadata": {
        "id": "SxJw4juQATLp",
        "outputId": "f8f0bb98-c85b-4188-88e6-d35fa78cef26"
      },
      "outputs": [
        {
          "data": {
            "text/plain": [
              "7"
            ]
          },
          "execution_count": 219,
          "metadata": {},
          "output_type": "execute_result"
        }
      ],
      "source": [
        "arr.max()"
      ]
    },
    {
      "cell_type": "code",
      "execution_count": null,
      "metadata": {
        "id": "edM1d8njATLp",
        "outputId": "a77fab09-238b-4a79-9347-4d064ebb96f8"
      },
      "outputs": [
        {
          "data": {
            "text/plain": [
              "3"
            ]
          },
          "execution_count": 220,
          "metadata": {},
          "output_type": "execute_result"
        }
      ],
      "source": [
        "arr.min()"
      ]
    },
    {
      "cell_type": "code",
      "execution_count": null,
      "metadata": {
        "id": "3UI_TDFyATLp"
      },
      "outputs": [],
      "source": [
        "arr = np.random.randint(4,100, (5,5))"
      ]
    },
    {
      "cell_type": "code",
      "execution_count": null,
      "metadata": {
        "id": "Qn-18Fn9ATLp",
        "outputId": "4d71b099-01e3-4479-953a-f7084b9b558c"
      },
      "outputs": [
        {
          "data": {
            "text/plain": [
              "array([[33, 90, 97, 11,  4],\n",
              "       [49, 40, 83, 38, 64],\n",
              "       [ 6, 49, 99, 86, 96],\n",
              "       [48, 58, 91, 66,  8],\n",
              "       [31, 24, 34, 64, 62]])"
            ]
          },
          "execution_count": 225,
          "metadata": {},
          "output_type": "execute_result"
        }
      ],
      "source": [
        "arr"
      ]
    },
    {
      "cell_type": "code",
      "execution_count": null,
      "metadata": {
        "id": "1yT449clATLp",
        "outputId": "25a596f4-3417-4cef-9a05-58cb2a815fc6"
      },
      "outputs": [
        {
          "data": {
            "text/plain": [
              "array([[66,  8],\n",
              "       [64, 62]])"
            ]
          },
          "execution_count": 226,
          "metadata": {},
          "output_type": "execute_result"
        }
      ],
      "source": [
        "arr[3: , 3:]"
      ]
    },
    {
      "cell_type": "code",
      "execution_count": null,
      "metadata": {
        "id": "BCB9EMnIATLp",
        "outputId": "6b18976f-77be-43a3-8561-7e2ba3aba573"
      },
      "outputs": [
        {
          "data": {
            "text/plain": [
              "array([[90, 11],\n",
              "       [40, 38],\n",
              "       [49, 86],\n",
              "       [58, 66],\n",
              "       [24, 64]])"
            ]
          },
          "execution_count": 227,
          "metadata": {},
          "output_type": "execute_result"
        }
      ],
      "source": [
        "arr[:,[1,3]]"
      ]
    },
    {
      "cell_type": "code",
      "execution_count": null,
      "metadata": {
        "id": "FW3_8GCEATLp",
        "outputId": "96de263d-10aa-4e4c-fc06-3420c791e4fd"
      },
      "outputs": [
        {
          "data": {
            "text/plain": [
              "array([[33, 90, 97, 11,  4],\n",
              "       [49, 40, 83, 38, 64],\n",
              "       [ 6, 49, 99, 86, 96],\n",
              "       [48, 58, 91, 66,  8],\n",
              "       [31, 24, 34, 64, 62]])"
            ]
          },
          "execution_count": 228,
          "metadata": {},
          "output_type": "execute_result"
        }
      ],
      "source": [
        "arr"
      ]
    },
    {
      "cell_type": "code",
      "execution_count": null,
      "metadata": {
        "id": "SOsqJXYsATLq",
        "outputId": "3429a852-b80c-4346-b85b-4e6a5a784822"
      },
      "outputs": [
        {
          "data": {
            "text/plain": [
              "array([33, 90, 97, 11, 49, 40, 83, 38, 64, 49, 99, 86, 96, 48, 58, 91, 66,\n",
              "       31, 24, 34, 64, 62])"
            ]
          },
          "execution_count": 230,
          "metadata": {},
          "output_type": "execute_result"
        }
      ],
      "source": [
        "arr[arr>10]"
      ]
    },
    {
      "cell_type": "code",
      "execution_count": null,
      "metadata": {
        "id": "NXI2nDbkATLq",
        "outputId": "b8984aba-6218-4f09-a5b3-3c17f6f80b3d"
      },
      "outputs": [
        {
          "data": {
            "text/plain": [
              "array([[ True,  True,  True,  True, False],\n",
              "       [ True,  True,  True,  True,  True],\n",
              "       [False,  True,  True,  True,  True],\n",
              "       [ True,  True,  True,  True, False],\n",
              "       [ True,  True,  True,  True,  True]])"
            ]
          },
          "execution_count": 231,
          "metadata": {},
          "output_type": "execute_result"
        }
      ],
      "source": [
        "arr>10"
      ]
    },
    {
      "cell_type": "code",
      "execution_count": null,
      "metadata": {
        "id": "h5CNdF12ATLq",
        "outputId": "12428ac3-90d6-466c-b084-b11f9767f2de"
      },
      "outputs": [
        {
          "data": {
            "text/plain": [
              "array([[33, 90, 97, 11,  4],\n",
              "       [49, 40, 83, 38, 64],\n",
              "       [ 6, 49, 99, 86, 96],\n",
              "       [48, 58, 91, 66,  8],\n",
              "       [31, 24, 34, 64, 62]])"
            ]
          },
          "execution_count": 232,
          "metadata": {},
          "output_type": "execute_result"
        }
      ],
      "source": [
        "arr"
      ]
    },
    {
      "cell_type": "code",
      "execution_count": null,
      "metadata": {
        "id": "anXU5HeoATLq",
        "outputId": "e88d6899-fb39-4113-cf5b-a4a9509022d2"
      },
      "outputs": [
        {
          "data": {
            "text/plain": [
              "array([[1089, 8100, 9409,  121,   16],\n",
              "       [2401, 1600, 6889, 1444, 4096],\n",
              "       [  36, 2401, 9801, 7396, 9216],\n",
              "       [2304, 3364, 8281, 4356,   64],\n",
              "       [ 961,  576, 1156, 4096, 3844]])"
            ]
          },
          "execution_count": 233,
          "metadata": {},
          "output_type": "execute_result"
        }
      ],
      "source": [
        "arr * arr"
      ]
    },
    {
      "cell_type": "code",
      "execution_count": null,
      "metadata": {
        "id": "fL_fW9gFATLq"
      },
      "outputs": [],
      "source": [
        "arr1 = np.random.randint(2,4,(3,3))"
      ]
    },
    {
      "cell_type": "code",
      "execution_count": null,
      "metadata": {
        "id": "Kk3Nh_GCATLq"
      },
      "outputs": [],
      "source": [
        "arr2 = np.random.randint(2,4,(3,3))"
      ]
    },
    {
      "cell_type": "code",
      "execution_count": null,
      "metadata": {
        "id": "y9HdFr_8ATLq",
        "outputId": "44a0204c-770f-4c32-fa2f-abe9c72e5b71"
      },
      "outputs": [
        {
          "data": {
            "text/plain": [
              "array([[2, 3, 3],\n",
              "       [3, 2, 3],\n",
              "       [3, 3, 2]])"
            ]
          },
          "execution_count": 245,
          "metadata": {},
          "output_type": "execute_result"
        }
      ],
      "source": [
        "arr1"
      ]
    },
    {
      "cell_type": "code",
      "execution_count": null,
      "metadata": {
        "id": "Hg5mPnDWATLq",
        "outputId": "7120f889-fa16-485f-897e-f92396c64b81"
      },
      "outputs": [
        {
          "data": {
            "text/plain": [
              "array([[2, 2, 3],\n",
              "       [3, 3, 3],\n",
              "       [3, 2, 3]])"
            ]
          },
          "execution_count": 246,
          "metadata": {},
          "output_type": "execute_result"
        }
      ],
      "source": [
        "arr2"
      ]
    },
    {
      "cell_type": "code",
      "execution_count": null,
      "metadata": {
        "id": "AbD6TIqKATLq",
        "outputId": "c8d40673-c3a3-4b14-edc3-4e6f73134249"
      },
      "outputs": [
        {
          "data": {
            "text/plain": [
              "array([[4, 6, 9],\n",
              "       [9, 6, 9],\n",
              "       [9, 6, 6]])"
            ]
          },
          "execution_count": 247,
          "metadata": {},
          "output_type": "execute_result"
        }
      ],
      "source": [
        "arr1*arr2"
      ]
    },
    {
      "cell_type": "code",
      "execution_count": null,
      "metadata": {
        "id": "x-kMPCORATLr",
        "outputId": "c9554c9e-b256-4a15-dc70-1ef60c7d5595"
      },
      "outputs": [
        {
          "data": {
            "text/plain": [
              "array([[22, 19, 24],\n",
              "       [21, 18, 24],\n",
              "       [21, 19, 24]])"
            ]
          },
          "execution_count": 248,
          "metadata": {},
          "output_type": "execute_result"
        }
      ],
      "source": [
        "arr1@arr2"
      ]
    },
    {
      "cell_type": "code",
      "execution_count": null,
      "metadata": {
        "id": "Aj2mouXjATLr",
        "outputId": "34a26077-0fdd-4d42-8dde-c1873551e51a"
      },
      "outputs": [
        {
          "name": "stderr",
          "output_type": "stream",
          "text": [
            "<ipython-input-249-39e2cbdaf753>:1: RuntimeWarning: divide by zero encountered in true_divide\n",
            "  arr/0\n"
          ]
        },
        {
          "data": {
            "text/plain": [
              "array([[inf, inf, inf, inf, inf],\n",
              "       [inf, inf, inf, inf, inf],\n",
              "       [inf, inf, inf, inf, inf],\n",
              "       [inf, inf, inf, inf, inf],\n",
              "       [inf, inf, inf, inf, inf]])"
            ]
          },
          "execution_count": 249,
          "metadata": {},
          "output_type": "execute_result"
        }
      ],
      "source": [
        "arr/0"
      ]
    },
    {
      "cell_type": "code",
      "execution_count": null,
      "metadata": {
        "id": "nXh10xdXATLr",
        "outputId": "ac849532-8351-422f-a029-a372913b077a"
      },
      "outputs": [
        {
          "data": {
            "text/plain": [
              "array([[1089, 8100, 9409,  121,   16],\n",
              "       [2401, 1600, 6889, 1444, 4096],\n",
              "       [  36, 2401, 9801, 7396, 9216],\n",
              "       [2304, 3364, 8281, 4356,   64],\n",
              "       [ 961,  576, 1156, 4096, 3844]], dtype=int32)"
            ]
          },
          "execution_count": 250,
          "metadata": {},
          "output_type": "execute_result"
        }
      ],
      "source": [
        "arr**2"
      ]
    },
    {
      "cell_type": "code",
      "execution_count": null,
      "metadata": {
        "id": "aAb9LFI4ATLr"
      },
      "outputs": [],
      "source": [
        "arr = np.zeros((3,4))"
      ]
    },
    {
      "cell_type": "code",
      "execution_count": null,
      "metadata": {
        "id": "DSh2kBBbATLr",
        "outputId": "66be183f-2da9-4067-a215-5eca0d658978"
      },
      "outputs": [
        {
          "data": {
            "text/plain": [
              "array([[0., 0., 0., 0.],\n",
              "       [0., 0., 0., 0.],\n",
              "       [0., 0., 0., 0.]])"
            ]
          },
          "execution_count": 253,
          "metadata": {},
          "output_type": "execute_result"
        }
      ],
      "source": [
        "arr"
      ]
    },
    {
      "cell_type": "code",
      "execution_count": null,
      "metadata": {
        "id": "InMFIgFcATLr"
      },
      "outputs": [],
      "source": [
        "a = np.array([1,2,3,5])"
      ]
    },
    {
      "cell_type": "code",
      "execution_count": null,
      "metadata": {
        "id": "Tf15V3YEATLr",
        "outputId": "2c3f772b-5868-4653-8cd5-5f5e17813b01"
      },
      "outputs": [
        {
          "data": {
            "text/plain": [
              "array([1, 2, 3, 5])"
            ]
          },
          "execution_count": 262,
          "metadata": {},
          "output_type": "execute_result"
        }
      ],
      "source": [
        "a\n"
      ]
    },
    {
      "cell_type": "code",
      "execution_count": null,
      "metadata": {
        "id": "fwULpahhATLs",
        "outputId": "403cb54c-fb73-49ba-b44e-3b5c8f5655ba"
      },
      "outputs": [
        {
          "data": {
            "text/plain": [
              "array([[1., 2., 3., 5.],\n",
              "       [1., 2., 3., 5.],\n",
              "       [1., 2., 3., 5.]])"
            ]
          },
          "execution_count": 263,
          "metadata": {},
          "output_type": "execute_result"
        }
      ],
      "source": [
        "arr + a "
      ]
    },
    {
      "cell_type": "code",
      "execution_count": null,
      "metadata": {
        "id": "29eZ-3tqATLs",
        "outputId": "fbae0609-d239-466b-d1bf-c7c86f185834"
      },
      "outputs": [
        {
          "data": {
            "text/plain": [
              "array([[5., 5., 5., 5.],\n",
              "       [5., 5., 5., 5.],\n",
              "       [5., 5., 5., 5.]])"
            ]
          },
          "execution_count": 257,
          "metadata": {},
          "output_type": "execute_result"
        }
      ],
      "source": [
        "arr+ 5"
      ]
    },
    {
      "cell_type": "code",
      "execution_count": null,
      "metadata": {
        "id": "mmts_wDdATLs"
      },
      "outputs": [],
      "source": [
        "b = np.array([5,6,7])"
      ]
    },
    {
      "cell_type": "code",
      "execution_count": null,
      "metadata": {
        "id": "j9zqGMICATLs",
        "outputId": "26dcb4dd-0c3c-4b24-c60d-bffffacb9899"
      },
      "outputs": [
        {
          "data": {
            "text/plain": [
              "array([5, 6, 7])"
            ]
          },
          "execution_count": 265,
          "metadata": {},
          "output_type": "execute_result"
        }
      ],
      "source": [
        "b"
      ]
    },
    {
      "cell_type": "code",
      "execution_count": null,
      "metadata": {
        "id": "Lyg4x0OPATLs",
        "outputId": "72428de9-d487-47f9-c1a0-4baedba3b107"
      },
      "outputs": [
        {
          "data": {
            "text/plain": [
              "array([[5., 5., 5., 5.],\n",
              "       [6., 6., 6., 6.],\n",
              "       [7., 7., 7., 7.]])"
            ]
          },
          "execution_count": 268,
          "metadata": {},
          "output_type": "execute_result"
        }
      ],
      "source": [
        "b.reshape(3,1) + arr"
      ]
    },
    {
      "cell_type": "code",
      "execution_count": null,
      "metadata": {
        "id": "WpN3RaTuATLs",
        "outputId": "33de3475-1a0a-4ca1-c43b-54a546a2d522"
      },
      "outputs": [
        {
          "data": {
            "text/plain": [
              "array([5, 6, 7])"
            ]
          },
          "execution_count": 269,
          "metadata": {},
          "output_type": "execute_result"
        }
      ],
      "source": [
        "b"
      ]
    },
    {
      "cell_type": "code",
      "execution_count": null,
      "metadata": {
        "id": "RouvZe3DATLs",
        "outputId": "fc7d3a83-7bba-4ea7-c58f-404195355c22"
      },
      "outputs": [
        {
          "data": {
            "text/plain": [
              "array([5, 6, 7])"
            ]
          },
          "execution_count": 273,
          "metadata": {},
          "output_type": "execute_result"
        }
      ],
      "source": []
    },
    {
      "cell_type": "code",
      "execution_count": null,
      "metadata": {
        "id": "YHKwJ50kATLt"
      },
      "outputs": [],
      "source": [
        "b = np.array([[5,6,7]])"
      ]
    },
    {
      "cell_type": "code",
      "execution_count": null,
      "metadata": {
        "id": "Ru8kY5RlATLt",
        "outputId": "1568e833-f1fb-43ff-beb4-54014d9cb766"
      },
      "outputs": [
        {
          "data": {
            "text/plain": [
              "array([[5., 5., 5., 5.],\n",
              "       [6., 6., 6., 6.],\n",
              "       [7., 7., 7., 7.]])"
            ]
          },
          "execution_count": 277,
          "metadata": {},
          "output_type": "execute_result"
        }
      ],
      "source": [
        "b.T + arr"
      ]
    },
    {
      "cell_type": "code",
      "execution_count": null,
      "metadata": {
        "id": "2h1L_7S0ATLt",
        "outputId": "5bf1806b-2346-4d72-f806-6f82079095d7"
      },
      "outputs": [
        {
          "data": {
            "text/plain": [
              "array([[0., 0., 0., 0.],\n",
              "       [0., 0., 0., 0.],\n",
              "       [0., 0., 0., 0.]])"
            ]
          },
          "execution_count": 278,
          "metadata": {},
          "output_type": "execute_result"
        }
      ],
      "source": [
        "arr"
      ]
    },
    {
      "cell_type": "code",
      "execution_count": null,
      "metadata": {
        "id": "Mp5Jtad2ATLt"
      },
      "outputs": [],
      "source": [
        "arr = np.random.rand(5,4)"
      ]
    },
    {
      "cell_type": "code",
      "execution_count": null,
      "metadata": {
        "id": "QmbzKeIzATLt",
        "outputId": "223dadfe-1f46-4175-ce26-8bbb3ca7f8e0"
      },
      "outputs": [
        {
          "data": {
            "text/plain": [
              "array([[0.67941063, 0.39266408, 0.3690279 , 0.24322169],\n",
              "       [0.73639163, 0.0401203 , 0.93684485, 0.61136987],\n",
              "       [0.91075051, 0.90249311, 0.48110496, 0.24793594],\n",
              "       [0.95043203, 0.31504451, 0.25094332, 0.6629506 ],\n",
              "       [0.12575233, 0.45982773, 0.34866419, 0.31466519]])"
            ]
          },
          "execution_count": 280,
          "metadata": {},
          "output_type": "execute_result"
        }
      ],
      "source": [
        "arr"
      ]
    },
    {
      "cell_type": "code",
      "execution_count": null,
      "metadata": {
        "id": "cIYcTi-8ATLt",
        "outputId": "ee566156-a5fd-44d9-b021-50a04ebd55a9"
      },
      "outputs": [
        {
          "data": {
            "text/plain": [
              "array([[0.82426369, 0.62662914, 0.60747666, 0.49317511],\n",
              "       [0.85813264, 0.20030052, 0.96790746, 0.78190144],\n",
              "       [0.9543325 , 0.94999637, 0.6936173 , 0.49793166],\n",
              "       [0.97490104, 0.56128826, 0.50094243, 0.81421778],\n",
              "       [0.35461575, 0.67810599, 0.59047794, 0.56095025]])"
            ]
          },
          "execution_count": 281,
          "metadata": {},
          "output_type": "execute_result"
        }
      ],
      "source": [
        "np.sqrt(arr)"
      ]
    },
    {
      "cell_type": "code",
      "execution_count": null,
      "metadata": {
        "id": "Y_kn_1umATLt",
        "outputId": "0226a31c-cdd0-4a35-c77f-c9882902e2f6"
      },
      "outputs": [
        {
          "data": {
            "text/plain": [
              "array([[1.97271474, 1.48092083, 1.44632795, 1.27535132],\n",
              "       [2.08838623, 1.04093599, 2.55191703, 1.84295428],\n",
              "       [2.48618775, 2.46574282, 1.61786108, 1.28137784],\n",
              "       [2.58682701, 1.3703203 , 1.28523724, 1.94050956],\n",
              "       [1.13400128, 1.58380112, 1.41717322, 1.3698006 ]])"
            ]
          },
          "execution_count": 282,
          "metadata": {},
          "output_type": "execute_result"
        }
      ],
      "source": [
        "np.exp(arr)"
      ]
    },
    {
      "cell_type": "code",
      "execution_count": null,
      "metadata": {
        "id": "urRissv0ATLu",
        "outputId": "fd0ef946-210c-4bad-b36a-0a45b865765c"
      },
      "outputs": [
        {
          "data": {
            "text/plain": [
              "array([[-0.16786766, -0.40597883, -0.4329408 , -0.6139977 ],\n",
              "       [-0.13289116, -1.39663583, -0.02833232, -0.21369597],\n",
              "       [-0.04060057, -0.04455611, -0.31776017, -0.60566052],\n",
              "       [-0.02207894, -0.50162808, -0.60042436, -0.17851883],\n",
              "       [-0.90048395, -0.33740484, -0.45759265, -0.5021513 ]])"
            ]
          },
          "execution_count": 283,
          "metadata": {},
          "output_type": "execute_result"
        }
      ],
      "source": [
        "np.log10(arr)"
      ]
    },
    {
      "cell_type": "code",
      "execution_count": null,
      "metadata": {
        "id": "e_wFKmhrATLu"
      },
      "outputs": [],
      "source": [
        "arr1 = np.random.randint(2,5, (5,5))"
      ]
    },
    {
      "cell_type": "code",
      "execution_count": null,
      "metadata": {
        "id": "Bj5Wmt7gATLu",
        "outputId": "8fe028ba-813c-4d4b-e5e3-13c3c75ab6d2"
      },
      "outputs": [
        {
          "data": {
            "text/plain": [
              "array([[0.47712125, 0.47712125, 0.60205999, 0.60205999, 0.47712125],\n",
              "       [0.47712125, 0.60205999, 0.60205999, 0.60205999, 0.47712125],\n",
              "       [0.47712125, 0.60205999, 0.30103   , 0.60205999, 0.30103   ],\n",
              "       [0.47712125, 0.30103   , 0.30103   , 0.47712125, 0.47712125],\n",
              "       [0.60205999, 0.47712125, 0.60205999, 0.60205999, 0.47712125]])"
            ]
          },
          "execution_count": 290,
          "metadata": {},
          "output_type": "execute_result"
        }
      ],
      "source": [
        "np.log10(arr1)"
      ]
    },
    {
      "cell_type": "code",
      "execution_count": null,
      "metadata": {
        "id": "ZcRr5QR-ATLu",
        "outputId": "c9c6e58a-7d34-4530-ccad-dddd0b6c69d7"
      },
      "outputs": [
        {
          "data": {
            "text/plain": [
              "array([[3, 3, 4, 4, 3],\n",
              "       [3, 4, 4, 4, 3],\n",
              "       [3, 4, 2, 4, 2],\n",
              "       [3, 2, 2, 3, 3],\n",
              "       [4, 3, 4, 4, 3]])"
            ]
          },
          "execution_count": 287,
          "metadata": {},
          "output_type": "execute_result"
        }
      ],
      "source": [
        "arr1"
      ]
    },
    {
      "cell_type": "code",
      "execution_count": null,
      "metadata": {
        "id": "oBtSFg9wATLu"
      },
      "outputs": [],
      "source": [
        "np.random.seed(13)"
      ]
    },
    {
      "cell_type": "code",
      "execution_count": null,
      "metadata": {
        "id": "U1r4VKiSATLu",
        "outputId": "a11a94ab-4f4f-4fe5-f73c-17d20f7ad1fd"
      },
      "outputs": [
        {
          "data": {
            "text/plain": [
              "array([[0.64414354, 0.38074849, 0.66304791, 0.16365073],\n",
              "       [0.96260781, 0.34666184, 0.99175099, 0.2350579 ]])"
            ]
          },
          "execution_count": 311,
          "metadata": {},
          "output_type": "execute_result"
        }
      ],
      "source": [
        "np.random.seed(30)\n",
        "np.random.rand(2,4)"
      ]
    },
    {
      "cell_type": "code",
      "execution_count": null,
      "metadata": {
        "id": "ZVapVD2jATLu"
      },
      "outputs": [],
      "source": []
    }
  ],
  "metadata": {
    "kernelspec": {
      "display_name": "Python 3",
      "language": "python",
      "name": "python3"
    },
    "language_info": {
      "codemirror_mode": {
        "name": "ipython",
        "version": 3
      },
      "file_extension": ".py",
      "mimetype": "text/x-python",
      "name": "python",
      "nbconvert_exporter": "python",
      "pygments_lexer": "ipython3",
      "version": "3.8.5"
    },
    "colab": {
      "provenance": [],
      "include_colab_link": true
    }
  },
  "nbformat": 4,
  "nbformat_minor": 0
}